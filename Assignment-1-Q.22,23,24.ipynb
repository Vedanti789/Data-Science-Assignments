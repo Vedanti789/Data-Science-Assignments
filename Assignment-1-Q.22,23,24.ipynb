{
 "cells": [
  {
   "cell_type": "code",
   "execution_count": 2,
   "id": "f99d6ac1",
   "metadata": {},
   "outputs": [],
   "source": [
    "import numpy as np\n",
    "import pandas as pd\n",
    "from scipy import stats\n",
    "import matplotlib.pyplot as plt\n",
    "%matplotlib inline"
   ]
  },
  {
   "cell_type": "markdown",
   "id": "3c0c807d",
   "metadata": {},
   "source": [
    "# Q.22 Z-Scores for 90%, 94%, 60% confidence level"
   ]
  },
  {
   "cell_type": "code",
   "execution_count": 11,
   "id": "ef1c3236",
   "metadata": {},
   "outputs": [],
   "source": [
    "z_90 = np.round(stats.norm.ppf(0.05),5)"
   ]
  },
  {
   "cell_type": "code",
   "execution_count": 12,
   "id": "b34bb3d7",
   "metadata": {},
   "outputs": [
    {
     "data": {
      "text/plain": [
       "-1.64485"
      ]
     },
     "execution_count": 12,
     "metadata": {},
     "output_type": "execute_result"
    }
   ],
   "source": [
    "z_90"
   ]
  },
  {
   "cell_type": "code",
   "execution_count": 6,
   "id": "cf34e4e2",
   "metadata": {},
   "outputs": [],
   "source": [
    "z_94 = np.round(stats.norm.ppf(0.03),3)"
   ]
  },
  {
   "cell_type": "code",
   "execution_count": 7,
   "id": "5343b564",
   "metadata": {},
   "outputs": [
    {
     "data": {
      "text/plain": [
       "-1.881"
      ]
     },
     "execution_count": 7,
     "metadata": {},
     "output_type": "execute_result"
    }
   ],
   "source": [
    "z_94"
   ]
  },
  {
   "cell_type": "code",
   "execution_count": 9,
   "id": "b9800b55",
   "metadata": {},
   "outputs": [],
   "source": [
    "z_60 = np.round(stats.norm.ppf(0.20),20)"
   ]
  },
  {
   "cell_type": "code",
   "execution_count": 10,
   "id": "3e9e4d56",
   "metadata": {},
   "outputs": [
    {
     "data": {
      "text/plain": [
       "-0.8416212335729142"
      ]
     },
     "execution_count": 10,
     "metadata": {},
     "output_type": "execute_result"
    }
   ],
   "source": [
    "z_60"
   ]
  },
  {
   "cell_type": "markdown",
   "id": "557206b6",
   "metadata": {},
   "source": [
    "# Q.23 T-Scores for 95%, 94%, 99% confidence level"
   ]
  },
  {
   "cell_type": "code",
   "execution_count": 8,
   "id": "eed8d37c",
   "metadata": {},
   "outputs": [
    {
     "data": {
      "text/plain": [
       "-2.0639"
      ]
     },
     "execution_count": 8,
     "metadata": {},
     "output_type": "execute_result"
    }
   ],
   "source": [
    "T_95 = np.round(stats.t.ppf(0.025,df=24),4)\n",
    "T_95"
   ]
  },
  {
   "cell_type": "code",
   "execution_count": 13,
   "id": "91bc0b2a",
   "metadata": {},
   "outputs": [
    {
     "data": {
      "text/plain": [
       "-1.974"
      ]
     },
     "execution_count": 13,
     "metadata": {},
     "output_type": "execute_result"
    }
   ],
   "source": [
    "T_94 = np.round(stats.t.ppf(0.03,df=24),4)\n",
    "T_94"
   ]
  },
  {
   "cell_type": "code",
   "execution_count": 14,
   "id": "02f04803",
   "metadata": {},
   "outputs": [
    {
     "data": {
      "text/plain": [
       "-2.7969"
      ]
     },
     "execution_count": 14,
     "metadata": {},
     "output_type": "execute_result"
    }
   ],
   "source": [
    "T_99 = np.round(stats.t.ppf(0.005,df=24),4)\n",
    "T_99"
   ]
  },
  {
   "cell_type": "markdown",
   "id": "903099e2",
   "metadata": {},
   "source": [
    "# Q.24 (mean=260, pop mean=270, SD=90, Sample size=18)"
   ]
  },
  {
   "cell_type": "code",
   "execution_count": 15,
   "id": "0dfb3e77",
   "metadata": {},
   "outputs": [],
   "source": [
    "t_score = (260-270)/(90/np.sqrt(18)) "
   ]
  },
  {
   "cell_type": "code",
   "execution_count": 16,
   "id": "c170f4a8",
   "metadata": {},
   "outputs": [
    {
     "data": {
      "text/plain": [
       "-0.4714045207910317"
      ]
     },
     "execution_count": 16,
     "metadata": {},
     "output_type": "execute_result"
    }
   ],
   "source": [
    "t_score"
   ]
  },
  {
   "cell_type": "code",
   "execution_count": 19,
   "id": "cc094b97",
   "metadata": {},
   "outputs": [],
   "source": [
    "prob = stats.t.cdf(t_score, df=17)"
   ]
  },
  {
   "cell_type": "code",
   "execution_count": 22,
   "id": "21f0c500",
   "metadata": {},
   "outputs": [
    {
     "data": {
      "text/plain": [
       "0.32167253567098364"
      ]
     },
     "execution_count": 22,
     "metadata": {},
     "output_type": "execute_result"
    }
   ],
   "source": [
    "prob"
   ]
  },
  {
   "cell_type": "code",
   "execution_count": null,
   "id": "bd0a4516",
   "metadata": {},
   "outputs": [],
   "source": []
  }
 ],
 "metadata": {
  "kernelspec": {
   "display_name": "Python 3 (ipykernel)",
   "language": "python",
   "name": "python3"
  },
  "language_info": {
   "codemirror_mode": {
    "name": "ipython",
    "version": 3
   },
   "file_extension": ".py",
   "mimetype": "text/x-python",
   "name": "python",
   "nbconvert_exporter": "python",
   "pygments_lexer": "ipython3",
   "version": "3.9.13"
  }
 },
 "nbformat": 4,
 "nbformat_minor": 5
}
